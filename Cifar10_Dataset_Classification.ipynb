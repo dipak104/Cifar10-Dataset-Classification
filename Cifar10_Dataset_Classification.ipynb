{
  "nbformat": 4,
  "nbformat_minor": 0,
  "metadata": {
    "colab": {
      "name": "Cifar10_Dataset_Classification.ipynb",
      "provenance": [],
      "collapsed_sections": []
    },
    "kernelspec": {
      "name": "python3",
      "display_name": "Python 3"
    },
    "accelerator": "TPU"
  },
  "cells": [
    {
      "cell_type": "code",
      "metadata": {
        "id": "7xfJJD4ZjJZf",
        "colab_type": "code",
        "colab": {}
      },
      "source": [
        "#!pip install tensorflow==2.0.0-rc0"
      ],
      "execution_count": 0,
      "outputs": []
    },
    {
      "cell_type": "code",
      "metadata": {
        "id": "IC-6Mb8SjpHO",
        "colab_type": "code",
        "outputId": "40a72e87-8249-4e48-c712-9d41f2ccbb7f",
        "colab": {
          "base_uri": "https://localhost:8080/",
          "height": 616
        }
      },
      "source": [
        "!pip install tensorflow-gpu==2.0.0-rc0"
      ],
      "execution_count": 0,
      "outputs": [
        {
          "output_type": "stream",
          "text": [
            "Collecting tensorflow-gpu==2.0.0-rc0\n",
            "\u001b[?25l  Downloading https://files.pythonhosted.org/packages/6a/12/8c64cc62149cc21c70c55018502831bbf4d42bd62bed196df7de6830d21b/tensorflow_gpu-2.0.0rc0-cp36-cp36m-manylinux2010_x86_64.whl (380.5MB)\n",
            "\u001b[K     |████████████████████████████████| 380.5MB 41kB/s \n",
            "\u001b[?25hRequirement already satisfied: gast>=0.2.0 in /usr/local/lib/python3.6/dist-packages (from tensorflow-gpu==2.0.0-rc0) (0.2.2)\n",
            "Requirement already satisfied: absl-py>=0.7.0 in /usr/local/lib/python3.6/dist-packages (from tensorflow-gpu==2.0.0-rc0) (0.8.1)\n",
            "Requirement already satisfied: astor>=0.6.0 in /usr/local/lib/python3.6/dist-packages (from tensorflow-gpu==2.0.0-rc0) (0.8.1)\n",
            "Requirement already satisfied: google-pasta>=0.1.6 in /usr/local/lib/python3.6/dist-packages (from tensorflow-gpu==2.0.0-rc0) (0.1.8)\n",
            "Requirement already satisfied: wrapt>=1.11.1 in /usr/local/lib/python3.6/dist-packages (from tensorflow-gpu==2.0.0-rc0) (1.11.2)\n",
            "Requirement already satisfied: wheel>=0.26 in /usr/local/lib/python3.6/dist-packages (from tensorflow-gpu==2.0.0-rc0) (0.33.6)\n",
            "Requirement already satisfied: numpy<2.0,>=1.16.0 in /usr/local/lib/python3.6/dist-packages (from tensorflow-gpu==2.0.0-rc0) (1.17.4)\n",
            "Requirement already satisfied: termcolor>=1.1.0 in /usr/local/lib/python3.6/dist-packages (from tensorflow-gpu==2.0.0-rc0) (1.1.0)\n",
            "Requirement already satisfied: grpcio>=1.8.6 in /usr/local/lib/python3.6/dist-packages (from tensorflow-gpu==2.0.0-rc0) (1.15.0)\n",
            "Collecting tf-estimator-nightly<1.14.0.dev2019080602,>=1.14.0.dev2019080601\n",
            "\u001b[?25l  Downloading https://files.pythonhosted.org/packages/21/28/f2a27a62943d5f041e4a6fd404b2d21cb7c59b2242a4e73b03d9ba166552/tf_estimator_nightly-1.14.0.dev2019080601-py2.py3-none-any.whl (501kB)\n",
            "\u001b[K     |████████████████████████████████| 501kB 44.7MB/s \n",
            "\u001b[?25hRequirement already satisfied: protobuf>=3.6.1 in /usr/local/lib/python3.6/dist-packages (from tensorflow-gpu==2.0.0-rc0) (3.10.0)\n",
            "Requirement already satisfied: six>=1.10.0 in /usr/local/lib/python3.6/dist-packages (from tensorflow-gpu==2.0.0-rc0) (1.12.0)\n",
            "Requirement already satisfied: opt-einsum>=2.3.2 in /usr/local/lib/python3.6/dist-packages (from tensorflow-gpu==2.0.0-rc0) (3.1.0)\n",
            "Collecting tb-nightly<1.15.0a20190807,>=1.15.0a20190806\n",
            "\u001b[?25l  Downloading https://files.pythonhosted.org/packages/bc/88/24b5fb7280e74c7cf65bde47c171547fd02afb3840cff41bcbe9270650f5/tb_nightly-1.15.0a20190806-py3-none-any.whl (4.3MB)\n",
            "\u001b[K     |████████████████████████████████| 4.3MB 53.1MB/s \n",
            "\u001b[?25hRequirement already satisfied: keras-preprocessing>=1.0.5 in /usr/local/lib/python3.6/dist-packages (from tensorflow-gpu==2.0.0-rc0) (1.1.0)\n",
            "Requirement already satisfied: keras-applications>=1.0.8 in /usr/local/lib/python3.6/dist-packages (from tensorflow-gpu==2.0.0-rc0) (1.0.8)\n",
            "Requirement already satisfied: setuptools in /usr/local/lib/python3.6/dist-packages (from protobuf>=3.6.1->tensorflow-gpu==2.0.0-rc0) (42.0.2)\n",
            "Requirement already satisfied: markdown>=2.6.8 in /usr/local/lib/python3.6/dist-packages (from tb-nightly<1.15.0a20190807,>=1.15.0a20190806->tensorflow-gpu==2.0.0-rc0) (3.1.1)\n",
            "Requirement already satisfied: werkzeug>=0.11.15 in /usr/local/lib/python3.6/dist-packages (from tb-nightly<1.15.0a20190807,>=1.15.0a20190806->tensorflow-gpu==2.0.0-rc0) (0.16.0)\n",
            "Requirement already satisfied: h5py in /usr/local/lib/python3.6/dist-packages (from keras-applications>=1.0.8->tensorflow-gpu==2.0.0-rc0) (2.8.0)\n",
            "Installing collected packages: tf-estimator-nightly, tb-nightly, tensorflow-gpu\n",
            "Successfully installed tb-nightly-1.15.0a20190806 tensorflow-gpu-2.0.0rc0 tf-estimator-nightly-1.14.0.dev2019080601\n"
          ],
          "name": "stdout"
        },
        {
          "output_type": "display_data",
          "data": {
            "application/vnd.colab-display-data+json": {
              "pip_warning": {
                "packages": [
                  "tensorboard",
                  "tensorflow",
                  "tensorflow_core",
                  "tensorflow_estimator"
                ]
              }
            }
          },
          "metadata": {
            "tags": []
          }
        }
      ]
    },
    {
      "cell_type": "code",
      "metadata": {
        "id": "FmawPJytTums",
        "colab_type": "code",
        "outputId": "a7478efc-3a24-478c-8f5e-11962b4a26ae",
        "colab": {
          "base_uri": "https://localhost:8080/",
          "height": 394
        }
      },
      "source": [
        "!pip install mlxtend==0.17.0"
      ],
      "execution_count": 0,
      "outputs": [
        {
          "output_type": "stream",
          "text": [
            "Collecting mlxtend==0.17.0\n",
            "\u001b[?25l  Downloading https://files.pythonhosted.org/packages/52/04/c362f34f666f0ddc7cf593805e64d64fa670ed96fd9302e68549dd48287d/mlxtend-0.17.0-py2.py3-none-any.whl (1.3MB)\n",
            "\r\u001b[K     |▎                               | 10kB 19.3MB/s eta 0:00:01\r\u001b[K     |▌                               | 20kB 2.2MB/s eta 0:00:01\r\u001b[K     |▊                               | 30kB 2.9MB/s eta 0:00:01\r\u001b[K     |█                               | 40kB 2.1MB/s eta 0:00:01\r\u001b[K     |█▎                              | 51kB 2.4MB/s eta 0:00:01\r\u001b[K     |█▌                              | 61kB 2.8MB/s eta 0:00:01\r\u001b[K     |█▊                              | 71kB 3.0MB/s eta 0:00:01\r\u001b[K     |██                              | 81kB 3.2MB/s eta 0:00:01\r\u001b[K     |██▏                             | 92kB 3.6MB/s eta 0:00:01\r\u001b[K     |██▌                             | 102kB 3.4MB/s eta 0:00:01\r\u001b[K     |██▊                             | 112kB 3.4MB/s eta 0:00:01\r\u001b[K     |███                             | 122kB 3.4MB/s eta 0:00:01\r\u001b[K     |███▏                            | 133kB 3.4MB/s eta 0:00:01\r\u001b[K     |███▍                            | 143kB 3.4MB/s eta 0:00:01\r\u001b[K     |███▊                            | 153kB 3.4MB/s eta 0:00:01\r\u001b[K     |████                            | 163kB 3.4MB/s eta 0:00:01\r\u001b[K     |████▏                           | 174kB 3.4MB/s eta 0:00:01\r\u001b[K     |████▍                           | 184kB 3.4MB/s eta 0:00:01\r\u001b[K     |████▊                           | 194kB 3.4MB/s eta 0:00:01\r\u001b[K     |█████                           | 204kB 3.4MB/s eta 0:00:01\r\u001b[K     |█████▏                          | 215kB 3.4MB/s eta 0:00:01\r\u001b[K     |█████▍                          | 225kB 3.4MB/s eta 0:00:01\r\u001b[K     |█████▋                          | 235kB 3.4MB/s eta 0:00:01\r\u001b[K     |██████                          | 245kB 3.4MB/s eta 0:00:01\r\u001b[K     |██████▏                         | 256kB 3.4MB/s eta 0:00:01\r\u001b[K     |██████▍                         | 266kB 3.4MB/s eta 0:00:01\r\u001b[K     |██████▋                         | 276kB 3.4MB/s eta 0:00:01\r\u001b[K     |██████▉                         | 286kB 3.4MB/s eta 0:00:01\r\u001b[K     |███████▏                        | 296kB 3.4MB/s eta 0:00:01\r\u001b[K     |███████▍                        | 307kB 3.4MB/s eta 0:00:01\r\u001b[K     |███████▋                        | 317kB 3.4MB/s eta 0:00:01\r\u001b[K     |███████▉                        | 327kB 3.4MB/s eta 0:00:01\r\u001b[K     |████████                        | 337kB 3.4MB/s eta 0:00:01\r\u001b[K     |████████▍                       | 348kB 3.4MB/s eta 0:00:01\r\u001b[K     |████████▋                       | 358kB 3.4MB/s eta 0:00:01\r\u001b[K     |████████▉                       | 368kB 3.4MB/s eta 0:00:01\r\u001b[K     |█████████                       | 378kB 3.4MB/s eta 0:00:01\r\u001b[K     |█████████▍                      | 389kB 3.4MB/s eta 0:00:01\r\u001b[K     |█████████▋                      | 399kB 3.4MB/s eta 0:00:01\r\u001b[K     |█████████▉                      | 409kB 3.4MB/s eta 0:00:01\r\u001b[K     |██████████                      | 419kB 3.4MB/s eta 0:00:01\r\u001b[K     |██████████▎                     | 430kB 3.4MB/s eta 0:00:01\r\u001b[K     |██████████▋                     | 440kB 3.4MB/s eta 0:00:01\r\u001b[K     |██████████▉                     | 450kB 3.4MB/s eta 0:00:01\r\u001b[K     |███████████                     | 460kB 3.4MB/s eta 0:00:01\r\u001b[K     |███████████▎                    | 471kB 3.4MB/s eta 0:00:01\r\u001b[K     |███████████▌                    | 481kB 3.4MB/s eta 0:00:01\r\u001b[K     |███████████▉                    | 491kB 3.4MB/s eta 0:00:01\r\u001b[K     |████████████                    | 501kB 3.4MB/s eta 0:00:01\r\u001b[K     |████████████▎                   | 512kB 3.4MB/s eta 0:00:01\r\u001b[K     |████████████▌                   | 522kB 3.4MB/s eta 0:00:01\r\u001b[K     |████████████▊                   | 532kB 3.4MB/s eta 0:00:01\r\u001b[K     |█████████████                   | 542kB 3.4MB/s eta 0:00:01\r\u001b[K     |█████████████▎                  | 552kB 3.4MB/s eta 0:00:01\r\u001b[K     |█████████████▌                  | 563kB 3.4MB/s eta 0:00:01\r\u001b[K     |█████████████▊                  | 573kB 3.4MB/s eta 0:00:01\r\u001b[K     |██████████████                  | 583kB 3.4MB/s eta 0:00:01\r\u001b[K     |██████████████▎                 | 593kB 3.4MB/s eta 0:00:01\r\u001b[K     |██████████████▌                 | 604kB 3.4MB/s eta 0:00:01\r\u001b[K     |██████████████▊                 | 614kB 3.4MB/s eta 0:00:01\r\u001b[K     |███████████████                 | 624kB 3.4MB/s eta 0:00:01\r\u001b[K     |███████████████▎                | 634kB 3.4MB/s eta 0:00:01\r\u001b[K     |███████████████▌                | 645kB 3.4MB/s eta 0:00:01\r\u001b[K     |███████████████▊                | 655kB 3.4MB/s eta 0:00:01\r\u001b[K     |████████████████                | 665kB 3.4MB/s eta 0:00:01\r\u001b[K     |████████████████▏               | 675kB 3.4MB/s eta 0:00:01\r\u001b[K     |████████████████▌               | 686kB 3.4MB/s eta 0:00:01\r\u001b[K     |████████████████▊               | 696kB 3.4MB/s eta 0:00:01\r\u001b[K     |█████████████████               | 706kB 3.4MB/s eta 0:00:01\r\u001b[K     |█████████████████▏              | 716kB 3.4MB/s eta 0:00:01\r\u001b[K     |█████████████████▍              | 727kB 3.4MB/s eta 0:00:01\r\u001b[K     |█████████████████▊              | 737kB 3.4MB/s eta 0:00:01\r\u001b[K     |██████████████████              | 747kB 3.4MB/s eta 0:00:01\r\u001b[K     |██████████████████▏             | 757kB 3.4MB/s eta 0:00:01\r\u001b[K     |██████████████████▍             | 768kB 3.4MB/s eta 0:00:01\r\u001b[K     |██████████████████▊             | 778kB 3.4MB/s eta 0:00:01\r\u001b[K     |███████████████████             | 788kB 3.4MB/s eta 0:00:01\r\u001b[K     |███████████████████▏            | 798kB 3.4MB/s eta 0:00:01\r\u001b[K     |███████████████████▍            | 808kB 3.4MB/s eta 0:00:01\r\u001b[K     |███████████████████▋            | 819kB 3.4MB/s eta 0:00:01\r\u001b[K     |████████████████████            | 829kB 3.4MB/s eta 0:00:01\r\u001b[K     |████████████████████▏           | 839kB 3.4MB/s eta 0:00:01\r\u001b[K     |████████████████████▍           | 849kB 3.4MB/s eta 0:00:01\r\u001b[K     |████████████████████▋           | 860kB 3.4MB/s eta 0:00:01\r\u001b[K     |████████████████████▉           | 870kB 3.4MB/s eta 0:00:01\r\u001b[K     |█████████████████████▏          | 880kB 3.4MB/s eta 0:00:01\r\u001b[K     |█████████████████████▍          | 890kB 3.4MB/s eta 0:00:01\r\u001b[K     |█████████████████████▋          | 901kB 3.4MB/s eta 0:00:01\r\u001b[K     |█████████████████████▉          | 911kB 3.4MB/s eta 0:00:01\r\u001b[K     |██████████████████████          | 921kB 3.4MB/s eta 0:00:01\r\u001b[K     |██████████████████████▍         | 931kB 3.4MB/s eta 0:00:01\r\u001b[K     |██████████████████████▋         | 942kB 3.4MB/s eta 0:00:01\r\u001b[K     |██████████████████████▉         | 952kB 3.4MB/s eta 0:00:01\r\u001b[K     |███████████████████████         | 962kB 3.4MB/s eta 0:00:01\r\u001b[K     |███████████████████████▍        | 972kB 3.4MB/s eta 0:00:01\r\u001b[K     |███████████████████████▋        | 983kB 3.4MB/s eta 0:00:01\r\u001b[K     |███████████████████████▉        | 993kB 3.4MB/s eta 0:00:01\r\u001b[K     |████████████████████████        | 1.0MB 3.4MB/s eta 0:00:01\r\u001b[K     |████████████████████████▎       | 1.0MB 3.4MB/s eta 0:00:01\r\u001b[K     |████████████████████████▋       | 1.0MB 3.4MB/s eta 0:00:01\r\u001b[K     |████████████████████████▉       | 1.0MB 3.4MB/s eta 0:00:01\r\u001b[K     |█████████████████████████       | 1.0MB 3.4MB/s eta 0:00:01\r\u001b[K     |█████████████████████████▎      | 1.1MB 3.4MB/s eta 0:00:01\r\u001b[K     |█████████████████████████▌      | 1.1MB 3.4MB/s eta 0:00:01\r\u001b[K     |█████████████████████████▉      | 1.1MB 3.4MB/s eta 0:00:01\r\u001b[K     |██████████████████████████      | 1.1MB 3.4MB/s eta 0:00:01\r\u001b[K     |██████████████████████████▎     | 1.1MB 3.4MB/s eta 0:00:01\r\u001b[K     |██████████████████████████▌     | 1.1MB 3.4MB/s eta 0:00:01\r\u001b[K     |██████████████████████████▊     | 1.1MB 3.4MB/s eta 0:00:01\r\u001b[K     |███████████████████████████     | 1.1MB 3.4MB/s eta 0:00:01\r\u001b[K     |███████████████████████████▎    | 1.1MB 3.4MB/s eta 0:00:01\r\u001b[K     |███████████████████████████▌    | 1.1MB 3.4MB/s eta 0:00:01\r\u001b[K     |███████████████████████████▊    | 1.2MB 3.4MB/s eta 0:00:01\r\u001b[K     |████████████████████████████    | 1.2MB 3.4MB/s eta 0:00:01\r\u001b[K     |████████████████████████████▎   | 1.2MB 3.4MB/s eta 0:00:01\r\u001b[K     |████████████████████████████▌   | 1.2MB 3.4MB/s eta 0:00:01\r\u001b[K     |████████████████████████████▊   | 1.2MB 3.4MB/s eta 0:00:01\r\u001b[K     |█████████████████████████████   | 1.2MB 3.4MB/s eta 0:00:01\r\u001b[K     |█████████████████████████████▎  | 1.2MB 3.4MB/s eta 0:00:01\r\u001b[K     |█████████████████████████████▌  | 1.2MB 3.4MB/s eta 0:00:01\r\u001b[K     |█████████████████████████████▊  | 1.2MB 3.4MB/s eta 0:00:01\r\u001b[K     |██████████████████████████████  | 1.2MB 3.4MB/s eta 0:00:01\r\u001b[K     |██████████████████████████████▏ | 1.3MB 3.4MB/s eta 0:00:01\r\u001b[K     |██████████████████████████████▌ | 1.3MB 3.4MB/s eta 0:00:01\r\u001b[K     |██████████████████████████████▊ | 1.3MB 3.4MB/s eta 0:00:01\r\u001b[K     |███████████████████████████████ | 1.3MB 3.4MB/s eta 0:00:01\r\u001b[K     |███████████████████████████████▏| 1.3MB 3.4MB/s eta 0:00:01\r\u001b[K     |███████████████████████████████▌| 1.3MB 3.4MB/s eta 0:00:01\r\u001b[K     |███████████████████████████████▊| 1.3MB 3.4MB/s eta 0:00:01\r\u001b[K     |████████████████████████████████| 1.3MB 3.4MB/s eta 0:00:01\r\u001b[K     |████████████████████████████████| 1.3MB 3.4MB/s \n",
            "\u001b[?25hRequirement already satisfied: pandas>=0.24.2 in /usr/local/lib/python3.6/dist-packages (from mlxtend==0.17.0) (0.25.3)\n",
            "Requirement already satisfied: joblib>=0.13.2 in /usr/local/lib/python3.6/dist-packages (from mlxtend==0.17.0) (0.14.1)\n",
            "Requirement already satisfied: matplotlib>=3.0.0 in /usr/local/lib/python3.6/dist-packages (from mlxtend==0.17.0) (3.1.2)\n",
            "Requirement already satisfied: numpy>=1.16.2 in /usr/local/lib/python3.6/dist-packages (from mlxtend==0.17.0) (1.17.4)\n",
            "Requirement already satisfied: scikit-learn>=0.20.3 in /usr/local/lib/python3.6/dist-packages (from mlxtend==0.17.0) (0.21.3)\n",
            "Requirement already satisfied: setuptools in /usr/local/lib/python3.6/dist-packages (from mlxtend==0.17.0) (42.0.2)\n",
            "Requirement already satisfied: scipy>=1.2.1 in /usr/local/lib/python3.6/dist-packages (from mlxtend==0.17.0) (1.3.3)\n",
            "Requirement already satisfied: python-dateutil>=2.6.1 in /usr/local/lib/python3.6/dist-packages (from pandas>=0.24.2->mlxtend==0.17.0) (2.6.1)\n",
            "Requirement already satisfied: pytz>=2017.2 in /usr/local/lib/python3.6/dist-packages (from pandas>=0.24.2->mlxtend==0.17.0) (2018.9)\n",
            "Requirement already satisfied: cycler>=0.10 in /usr/local/lib/python3.6/dist-packages (from matplotlib>=3.0.0->mlxtend==0.17.0) (0.10.0)\n",
            "Requirement already satisfied: pyparsing!=2.0.4,!=2.1.2,!=2.1.6,>=2.0.1 in /usr/local/lib/python3.6/dist-packages (from matplotlib>=3.0.0->mlxtend==0.17.0) (2.4.5)\n",
            "Requirement already satisfied: kiwisolver>=1.0.1 in /usr/local/lib/python3.6/dist-packages (from matplotlib>=3.0.0->mlxtend==0.17.0) (1.1.0)\n",
            "Requirement already satisfied: six>=1.5 in /usr/local/lib/python3.6/dist-packages (from python-dateutil>=2.6.1->pandas>=0.24.2->mlxtend==0.17.0) (1.12.0)\n",
            "Installing collected packages: mlxtend\n",
            "  Found existing installation: mlxtend 0.14.0\n",
            "    Uninstalling mlxtend-0.14.0:\n",
            "      Successfully uninstalled mlxtend-0.14.0\n",
            "Successfully installed mlxtend-0.17.0\n"
          ],
          "name": "stdout"
        }
      ]
    },
    {
      "cell_type": "code",
      "metadata": {
        "id": "eGwWCB3zj3KF",
        "colab_type": "code",
        "colab": {}
      },
      "source": [
        "import tensorflow as tf\n",
        "from tensorflow.keras import Sequential\n",
        "from tensorflow.keras.layers import Flatten, Dense, Conv2D, MaxPool2D, Dropout"
      ],
      "execution_count": 0,
      "outputs": []
    },
    {
      "cell_type": "code",
      "metadata": {
        "id": "wEBOXp5xU4sa",
        "colab_type": "code",
        "outputId": "676684bb-3300-4905-d290-d9213106819b",
        "colab": {
          "base_uri": "https://localhost:8080/",
          "height": 34
        }
      },
      "source": [
        "print(tf.__version__)"
      ],
      "execution_count": 0,
      "outputs": [
        {
          "output_type": "stream",
          "text": [
            "2.0.0-rc0\n"
          ],
          "name": "stdout"
        }
      ]
    },
    {
      "cell_type": "code",
      "metadata": {
        "id": "KJChfFLFkpsh",
        "colab_type": "code",
        "colab": {}
      },
      "source": [
        "import numpy as np\n",
        "import matplotlib.pyplot as plt\n",
        "import matplotlib\n",
        "%matplotlib inline"
      ],
      "execution_count": 0,
      "outputs": []
    },
    {
      "cell_type": "code",
      "metadata": {
        "id": "ZRxiepKQU3ht",
        "colab_type": "code",
        "colab": {}
      },
      "source": [
        "from tensorflow.keras.datasets import cifar10"
      ],
      "execution_count": 0,
      "outputs": []
    },
    {
      "cell_type": "code",
      "metadata": {
        "id": "F_L8ahzwlLnu",
        "colab_type": "code",
        "outputId": "923dd57a-021e-46c3-aadd-77fc3886a8aa",
        "colab": {
          "base_uri": "https://localhost:8080/",
          "height": 51
        }
      },
      "source": [
        "(X_train, y_train), (X_test, y_test) = cifar10.load_data()"
      ],
      "execution_count": 0,
      "outputs": [
        {
          "output_type": "stream",
          "text": [
            "Downloading data from https://www.cs.toronto.edu/~kriz/cifar-10-python.tar.gz\n",
            "170500096/170498071 [==============================] - 2s 0us/step\n"
          ],
          "name": "stdout"
        }
      ]
    },
    {
      "cell_type": "code",
      "metadata": {
        "id": "1XaAGmZnlSdi",
        "colab_type": "code",
        "outputId": "6ed51918-4a33-43a5-954e-79cb7d2e3aea",
        "colab": {
          "base_uri": "https://localhost:8080/",
          "height": 34
        }
      },
      "source": [
        "X_train.shape, y_train.shape"
      ],
      "execution_count": 0,
      "outputs": [
        {
          "output_type": "execute_result",
          "data": {
            "text/plain": [
              "((50000, 32, 32, 3), (50000, 1))"
            ]
          },
          "metadata": {
            "tags": []
          },
          "execution_count": 6
        }
      ]
    },
    {
      "cell_type": "code",
      "metadata": {
        "id": "MVkb1nbbVtTO",
        "colab_type": "code",
        "outputId": "d86ed18e-2a8e-4cf0-f49f-4d0eb7cec8ff",
        "colab": {
          "base_uri": "https://localhost:8080/",
          "height": 34
        }
      },
      "source": [
        "X_test.shape, y_test.shape"
      ],
      "execution_count": 0,
      "outputs": [
        {
          "output_type": "execute_result",
          "data": {
            "text/plain": [
              "((10000, 32, 32, 3), (10000, 1))"
            ]
          },
          "metadata": {
            "tags": []
          },
          "execution_count": 7
        }
      ]
    },
    {
      "cell_type": "code",
      "metadata": {
        "id": "Y2bo3yNPVv5V",
        "colab_type": "code",
        "colab": {}
      },
      "source": [
        "classes_name = ['Airplane','Automobile','Bird','Cat','Deer','Dog','Frog','Horse','Ship','Truck']"
      ],
      "execution_count": 0,
      "outputs": []
    },
    {
      "cell_type": "code",
      "metadata": {
        "id": "pAHkrcTCV7wP",
        "colab_type": "code",
        "outputId": "22bb32b9-4989-479e-ba3a-50c87fe081d3",
        "colab": {
          "base_uri": "https://localhost:8080/",
          "height": 187
        }
      },
      "source": [
        "classes_name"
      ],
      "execution_count": 0,
      "outputs": [
        {
          "output_type": "execute_result",
          "data": {
            "text/plain": [
              "['Airplane',\n",
              " 'Automobile',\n",
              " 'Bird',\n",
              " 'Cat',\n",
              " 'Deer',\n",
              " 'Dog',\n",
              " 'Frog',\n",
              " 'Horse',\n",
              " 'Ship',\n",
              " 'Truck']"
            ]
          },
          "metadata": {
            "tags": []
          },
          "execution_count": 9
        }
      ]
    },
    {
      "cell_type": "code",
      "metadata": {
        "id": "9J7PiyCFV8q9",
        "colab_type": "code",
        "outputId": "f1734d6d-42cf-4709-d646-e26b5ea4277d",
        "colab": {
          "base_uri": "https://localhost:8080/",
          "height": 34
        }
      },
      "source": [
        "X_train.max()"
      ],
      "execution_count": 0,
      "outputs": [
        {
          "output_type": "execute_result",
          "data": {
            "text/plain": [
              "255"
            ]
          },
          "metadata": {
            "tags": []
          },
          "execution_count": 10
        }
      ]
    },
    {
      "cell_type": "code",
      "metadata": {
        "id": "-3C2YxLBWEAY",
        "colab_type": "code",
        "colab": {}
      },
      "source": [
        "X_train = X_train/255\n",
        "X_test = X_test/255"
      ],
      "execution_count": 0,
      "outputs": []
    },
    {
      "cell_type": "code",
      "metadata": {
        "id": "o9bgOTb_WIOe",
        "colab_type": "code",
        "outputId": "eb419854-2446-4a30-ec2f-923bc8503ccc",
        "colab": {
          "base_uri": "https://localhost:8080/",
          "height": 1000
        }
      },
      "source": [
        "X_train"
      ],
      "execution_count": 0,
      "outputs": [
        {
          "output_type": "execute_result",
          "data": {
            "text/plain": [
              "array([[[[0.23137255, 0.24313725, 0.24705882],\n",
              "         [0.16862745, 0.18039216, 0.17647059],\n",
              "         [0.19607843, 0.18823529, 0.16862745],\n",
              "         ...,\n",
              "         [0.61960784, 0.51764706, 0.42352941],\n",
              "         [0.59607843, 0.49019608, 0.4       ],\n",
              "         [0.58039216, 0.48627451, 0.40392157]],\n",
              "\n",
              "        [[0.0627451 , 0.07843137, 0.07843137],\n",
              "         [0.        , 0.        , 0.        ],\n",
              "         [0.07058824, 0.03137255, 0.        ],\n",
              "         ...,\n",
              "         [0.48235294, 0.34509804, 0.21568627],\n",
              "         [0.46666667, 0.3254902 , 0.19607843],\n",
              "         [0.47843137, 0.34117647, 0.22352941]],\n",
              "\n",
              "        [[0.09803922, 0.09411765, 0.08235294],\n",
              "         [0.0627451 , 0.02745098, 0.        ],\n",
              "         [0.19215686, 0.10588235, 0.03137255],\n",
              "         ...,\n",
              "         [0.4627451 , 0.32941176, 0.19607843],\n",
              "         [0.47058824, 0.32941176, 0.19607843],\n",
              "         [0.42745098, 0.28627451, 0.16470588]],\n",
              "\n",
              "        ...,\n",
              "\n",
              "        [[0.81568627, 0.66666667, 0.37647059],\n",
              "         [0.78823529, 0.6       , 0.13333333],\n",
              "         [0.77647059, 0.63137255, 0.10196078],\n",
              "         ...,\n",
              "         [0.62745098, 0.52156863, 0.2745098 ],\n",
              "         [0.21960784, 0.12156863, 0.02745098],\n",
              "         [0.20784314, 0.13333333, 0.07843137]],\n",
              "\n",
              "        [[0.70588235, 0.54509804, 0.37647059],\n",
              "         [0.67843137, 0.48235294, 0.16470588],\n",
              "         [0.72941176, 0.56470588, 0.11764706],\n",
              "         ...,\n",
              "         [0.72156863, 0.58039216, 0.36862745],\n",
              "         [0.38039216, 0.24313725, 0.13333333],\n",
              "         [0.3254902 , 0.20784314, 0.13333333]],\n",
              "\n",
              "        [[0.69411765, 0.56470588, 0.45490196],\n",
              "         [0.65882353, 0.50588235, 0.36862745],\n",
              "         [0.70196078, 0.55686275, 0.34117647],\n",
              "         ...,\n",
              "         [0.84705882, 0.72156863, 0.54901961],\n",
              "         [0.59215686, 0.4627451 , 0.32941176],\n",
              "         [0.48235294, 0.36078431, 0.28235294]]],\n",
              "\n",
              "\n",
              "       [[[0.60392157, 0.69411765, 0.73333333],\n",
              "         [0.49411765, 0.5372549 , 0.53333333],\n",
              "         [0.41176471, 0.40784314, 0.37254902],\n",
              "         ...,\n",
              "         [0.35686275, 0.37254902, 0.27843137],\n",
              "         [0.34117647, 0.35294118, 0.27843137],\n",
              "         [0.30980392, 0.31764706, 0.2745098 ]],\n",
              "\n",
              "        [[0.54901961, 0.62745098, 0.6627451 ],\n",
              "         [0.56862745, 0.6       , 0.60392157],\n",
              "         [0.49019608, 0.49019608, 0.4627451 ],\n",
              "         ...,\n",
              "         [0.37647059, 0.38823529, 0.30588235],\n",
              "         [0.30196078, 0.31372549, 0.24313725],\n",
              "         [0.27843137, 0.28627451, 0.23921569]],\n",
              "\n",
              "        [[0.54901961, 0.60784314, 0.64313725],\n",
              "         [0.54509804, 0.57254902, 0.58431373],\n",
              "         [0.45098039, 0.45098039, 0.43921569],\n",
              "         ...,\n",
              "         [0.30980392, 0.32156863, 0.25098039],\n",
              "         [0.26666667, 0.2745098 , 0.21568627],\n",
              "         [0.2627451 , 0.27058824, 0.21568627]],\n",
              "\n",
              "        ...,\n",
              "\n",
              "        [[0.68627451, 0.65490196, 0.65098039],\n",
              "         [0.61176471, 0.60392157, 0.62745098],\n",
              "         [0.60392157, 0.62745098, 0.66666667],\n",
              "         ...,\n",
              "         [0.16470588, 0.13333333, 0.14117647],\n",
              "         [0.23921569, 0.20784314, 0.22352941],\n",
              "         [0.36470588, 0.3254902 , 0.35686275]],\n",
              "\n",
              "        [[0.64705882, 0.60392157, 0.50196078],\n",
              "         [0.61176471, 0.59607843, 0.50980392],\n",
              "         [0.62352941, 0.63137255, 0.55686275],\n",
              "         ...,\n",
              "         [0.40392157, 0.36470588, 0.37647059],\n",
              "         [0.48235294, 0.44705882, 0.47058824],\n",
              "         [0.51372549, 0.4745098 , 0.51372549]],\n",
              "\n",
              "        [[0.63921569, 0.58039216, 0.47058824],\n",
              "         [0.61960784, 0.58039216, 0.47843137],\n",
              "         [0.63921569, 0.61176471, 0.52156863],\n",
              "         ...,\n",
              "         [0.56078431, 0.52156863, 0.54509804],\n",
              "         [0.56078431, 0.5254902 , 0.55686275],\n",
              "         [0.56078431, 0.52156863, 0.56470588]]],\n",
              "\n",
              "\n",
              "       [[[1.        , 1.        , 1.        ],\n",
              "         [0.99215686, 0.99215686, 0.99215686],\n",
              "         [0.99215686, 0.99215686, 0.99215686],\n",
              "         ...,\n",
              "         [0.99215686, 0.99215686, 0.99215686],\n",
              "         [0.99215686, 0.99215686, 0.99215686],\n",
              "         [0.99215686, 0.99215686, 0.99215686]],\n",
              "\n",
              "        [[1.        , 1.        , 1.        ],\n",
              "         [1.        , 1.        , 1.        ],\n",
              "         [1.        , 1.        , 1.        ],\n",
              "         ...,\n",
              "         [1.        , 1.        , 1.        ],\n",
              "         [1.        , 1.        , 1.        ],\n",
              "         [1.        , 1.        , 1.        ]],\n",
              "\n",
              "        [[1.        , 1.        , 1.        ],\n",
              "         [0.99607843, 0.99607843, 0.99607843],\n",
              "         [0.99607843, 0.99607843, 0.99607843],\n",
              "         ...,\n",
              "         [0.99607843, 0.99607843, 0.99607843],\n",
              "         [0.99607843, 0.99607843, 0.99607843],\n",
              "         [0.99607843, 0.99607843, 0.99607843]],\n",
              "\n",
              "        ...,\n",
              "\n",
              "        [[0.44313725, 0.47058824, 0.43921569],\n",
              "         [0.43529412, 0.4627451 , 0.43529412],\n",
              "         [0.41176471, 0.43921569, 0.41568627],\n",
              "         ...,\n",
              "         [0.28235294, 0.31764706, 0.31372549],\n",
              "         [0.28235294, 0.31372549, 0.30980392],\n",
              "         [0.28235294, 0.31372549, 0.30980392]],\n",
              "\n",
              "        [[0.43529412, 0.4627451 , 0.43137255],\n",
              "         [0.40784314, 0.43529412, 0.40784314],\n",
              "         [0.38823529, 0.41568627, 0.38431373],\n",
              "         ...,\n",
              "         [0.26666667, 0.29411765, 0.28627451],\n",
              "         [0.2745098 , 0.29803922, 0.29411765],\n",
              "         [0.30588235, 0.32941176, 0.32156863]],\n",
              "\n",
              "        [[0.41568627, 0.44313725, 0.41176471],\n",
              "         [0.38823529, 0.41568627, 0.38431373],\n",
              "         [0.37254902, 0.4       , 0.36862745],\n",
              "         ...,\n",
              "         [0.30588235, 0.33333333, 0.3254902 ],\n",
              "         [0.30980392, 0.33333333, 0.3254902 ],\n",
              "         [0.31372549, 0.3372549 , 0.32941176]]],\n",
              "\n",
              "\n",
              "       ...,\n",
              "\n",
              "\n",
              "       [[[0.1372549 , 0.69803922, 0.92156863],\n",
              "         [0.15686275, 0.69019608, 0.9372549 ],\n",
              "         [0.16470588, 0.69019608, 0.94509804],\n",
              "         ...,\n",
              "         [0.38823529, 0.69411765, 0.85882353],\n",
              "         [0.30980392, 0.57647059, 0.77254902],\n",
              "         [0.34901961, 0.58039216, 0.74117647]],\n",
              "\n",
              "        [[0.22352941, 0.71372549, 0.91764706],\n",
              "         [0.17254902, 0.72156863, 0.98039216],\n",
              "         [0.19607843, 0.71764706, 0.94117647],\n",
              "         ...,\n",
              "         [0.61176471, 0.71372549, 0.78431373],\n",
              "         [0.55294118, 0.69411765, 0.80784314],\n",
              "         [0.45490196, 0.58431373, 0.68627451]],\n",
              "\n",
              "        [[0.38431373, 0.77254902, 0.92941176],\n",
              "         [0.25098039, 0.74117647, 0.98823529],\n",
              "         [0.27058824, 0.75294118, 0.96078431],\n",
              "         ...,\n",
              "         [0.7372549 , 0.76470588, 0.80784314],\n",
              "         [0.46666667, 0.52941176, 0.57647059],\n",
              "         [0.23921569, 0.30980392, 0.35294118]],\n",
              "\n",
              "        ...,\n",
              "\n",
              "        [[0.28627451, 0.30980392, 0.30196078],\n",
              "         [0.20784314, 0.24705882, 0.26666667],\n",
              "         [0.21176471, 0.26666667, 0.31372549],\n",
              "         ...,\n",
              "         [0.06666667, 0.15686275, 0.25098039],\n",
              "         [0.08235294, 0.14117647, 0.2       ],\n",
              "         [0.12941176, 0.18823529, 0.19215686]],\n",
              "\n",
              "        [[0.23921569, 0.26666667, 0.29411765],\n",
              "         [0.21568627, 0.2745098 , 0.3372549 ],\n",
              "         [0.22352941, 0.30980392, 0.40392157],\n",
              "         ...,\n",
              "         [0.09411765, 0.18823529, 0.28235294],\n",
              "         [0.06666667, 0.1372549 , 0.20784314],\n",
              "         [0.02745098, 0.09019608, 0.1254902 ]],\n",
              "\n",
              "        [[0.17254902, 0.21960784, 0.28627451],\n",
              "         [0.18039216, 0.25882353, 0.34509804],\n",
              "         [0.19215686, 0.30196078, 0.41176471],\n",
              "         ...,\n",
              "         [0.10588235, 0.20392157, 0.30196078],\n",
              "         [0.08235294, 0.16862745, 0.25882353],\n",
              "         [0.04705882, 0.12156863, 0.19607843]]],\n",
              "\n",
              "\n",
              "       [[[0.74117647, 0.82745098, 0.94117647],\n",
              "         [0.72941176, 0.81568627, 0.9254902 ],\n",
              "         [0.7254902 , 0.81176471, 0.92156863],\n",
              "         ...,\n",
              "         [0.68627451, 0.76470588, 0.87843137],\n",
              "         [0.6745098 , 0.76078431, 0.87058824],\n",
              "         [0.6627451 , 0.76078431, 0.8627451 ]],\n",
              "\n",
              "        [[0.76078431, 0.82352941, 0.9372549 ],\n",
              "         [0.74901961, 0.81176471, 0.9254902 ],\n",
              "         [0.74509804, 0.80784314, 0.92156863],\n",
              "         ...,\n",
              "         [0.67843137, 0.75294118, 0.8627451 ],\n",
              "         [0.67058824, 0.74901961, 0.85490196],\n",
              "         [0.65490196, 0.74509804, 0.84705882]],\n",
              "\n",
              "        [[0.81568627, 0.85882353, 0.95686275],\n",
              "         [0.80392157, 0.84705882, 0.94117647],\n",
              "         [0.8       , 0.84313725, 0.9372549 ],\n",
              "         ...,\n",
              "         [0.68627451, 0.74901961, 0.85098039],\n",
              "         [0.6745098 , 0.74509804, 0.84705882],\n",
              "         [0.6627451 , 0.74901961, 0.84313725]],\n",
              "\n",
              "        ...,\n",
              "\n",
              "        [[0.81176471, 0.78039216, 0.70980392],\n",
              "         [0.79607843, 0.76470588, 0.68627451],\n",
              "         [0.79607843, 0.76862745, 0.67843137],\n",
              "         ...,\n",
              "         [0.52941176, 0.51764706, 0.49803922],\n",
              "         [0.63529412, 0.61960784, 0.58823529],\n",
              "         [0.65882353, 0.63921569, 0.59215686]],\n",
              "\n",
              "        [[0.77647059, 0.74509804, 0.66666667],\n",
              "         [0.74117647, 0.70980392, 0.62352941],\n",
              "         [0.70588235, 0.6745098 , 0.57647059],\n",
              "         ...,\n",
              "         [0.69803922, 0.67058824, 0.62745098],\n",
              "         [0.68627451, 0.6627451 , 0.61176471],\n",
              "         [0.68627451, 0.6627451 , 0.60392157]],\n",
              "\n",
              "        [[0.77647059, 0.74117647, 0.67843137],\n",
              "         [0.74117647, 0.70980392, 0.63529412],\n",
              "         [0.69803922, 0.66666667, 0.58431373],\n",
              "         ...,\n",
              "         [0.76470588, 0.72156863, 0.6627451 ],\n",
              "         [0.76862745, 0.74117647, 0.67058824],\n",
              "         [0.76470588, 0.74509804, 0.67058824]]],\n",
              "\n",
              "\n",
              "       [[[0.89803922, 0.89803922, 0.9372549 ],\n",
              "         [0.9254902 , 0.92941176, 0.96862745],\n",
              "         [0.91764706, 0.9254902 , 0.96862745],\n",
              "         ...,\n",
              "         [0.85098039, 0.85882353, 0.91372549],\n",
              "         [0.86666667, 0.8745098 , 0.91764706],\n",
              "         [0.87058824, 0.8745098 , 0.91372549]],\n",
              "\n",
              "        [[0.87058824, 0.86666667, 0.89803922],\n",
              "         [0.9372549 , 0.9372549 , 0.97647059],\n",
              "         [0.91372549, 0.91764706, 0.96470588],\n",
              "         ...,\n",
              "         [0.8745098 , 0.8745098 , 0.9254902 ],\n",
              "         [0.89019608, 0.89411765, 0.93333333],\n",
              "         [0.82352941, 0.82745098, 0.8627451 ]],\n",
              "\n",
              "        [[0.83529412, 0.80784314, 0.82745098],\n",
              "         [0.91764706, 0.90980392, 0.9372549 ],\n",
              "         [0.90588235, 0.91372549, 0.95686275],\n",
              "         ...,\n",
              "         [0.8627451 , 0.8627451 , 0.90980392],\n",
              "         [0.8627451 , 0.85882353, 0.90980392],\n",
              "         [0.79215686, 0.79607843, 0.84313725]],\n",
              "\n",
              "        ...,\n",
              "\n",
              "        [[0.58823529, 0.56078431, 0.52941176],\n",
              "         [0.54901961, 0.52941176, 0.49803922],\n",
              "         [0.51764706, 0.49803922, 0.47058824],\n",
              "         ...,\n",
              "         [0.87843137, 0.87058824, 0.85490196],\n",
              "         [0.90196078, 0.89411765, 0.88235294],\n",
              "         [0.94509804, 0.94509804, 0.93333333]],\n",
              "\n",
              "        [[0.5372549 , 0.51764706, 0.49411765],\n",
              "         [0.50980392, 0.49803922, 0.47058824],\n",
              "         [0.49019608, 0.4745098 , 0.45098039],\n",
              "         ...,\n",
              "         [0.70980392, 0.70588235, 0.69803922],\n",
              "         [0.79215686, 0.78823529, 0.77647059],\n",
              "         [0.83137255, 0.82745098, 0.81176471]],\n",
              "\n",
              "        [[0.47843137, 0.46666667, 0.44705882],\n",
              "         [0.4627451 , 0.45490196, 0.43137255],\n",
              "         [0.47058824, 0.45490196, 0.43529412],\n",
              "         ...,\n",
              "         [0.70196078, 0.69411765, 0.67843137],\n",
              "         [0.64313725, 0.64313725, 0.63529412],\n",
              "         [0.63921569, 0.63921569, 0.63137255]]]])"
            ]
          },
          "metadata": {
            "tags": []
          },
          "execution_count": 12
        }
      ]
    },
    {
      "cell_type": "code",
      "metadata": {
        "id": "XwA81jYkWJWO",
        "colab_type": "code",
        "outputId": "9e067bc6-9ee2-4ad4-da47-5580f19f0a62",
        "colab": {
          "base_uri": "https://localhost:8080/",
          "height": 283
        }
      },
      "source": [
        "plt.imshow(X_test[0])"
      ],
      "execution_count": 0,
      "outputs": [
        {
          "output_type": "execute_result",
          "data": {
            "text/plain": [
              "<matplotlib.image.AxesImage at 0x7f29dbff7da0>"
            ]
          },
          "metadata": {
            "tags": []
          },
          "execution_count": 13
        },
        {
          "output_type": "display_data",
          "data": {
            "image/png": "[encoded data removed]",
            "text/plain": [
              "<Figure size 432x288 with 1 Axes>"
            ]
          },
          "metadata": {
            "tags": []
          }
        }
      ]
    },
    {
      "cell_type": "code",
      "metadata": {
        "id": "GR98RLN-WcuM",
        "colab_type": "code",
        "outputId": "d2a613d5-9a3e-4f59-adf2-c7569bfc554c",
        "colab": {
          "base_uri": "https://localhost:8080/",
          "height": 34
        }
      },
      "source": [
        "y_test[0]"
      ],
      "execution_count": 0,
      "outputs": [
        {
          "output_type": "execute_result",
          "data": {
            "text/plain": [
              "array([3], dtype=uint8)"
            ]
          },
          "metadata": {
            "tags": []
          },
          "execution_count": 14
        }
      ]
    },
    {
      "cell_type": "code",
      "metadata": {
        "id": "4fCMMeOLWjPZ",
        "colab_type": "code",
        "colab": {}
      },
      "source": [
        "model = Sequential()\n",
        "model.add(Conv2D(filters = 32, kernel_size = 3, padding='same', activation='relu', input_shape=[32,32,3]))\n",
        "model.add(Conv2D(filters = 32, kernel_size=3, padding='same', activation='relu'))\n",
        "model.add(Conv2D(filters = 32, kernel_size=3, padding='same', activation='relu'))\n",
        "model.add(MaxPool2D(pool_size=(2,2), strides=2, padding='valid'))\n",
        "model.add(Dropout(rate=0.5))\n",
        "\n",
        "model.add(Flatten())\n",
        "model.add(Dense(units=128, activation='relu'))\n",
        "model.add(Dense(units=10, activation='softmax'))"
      ],
      "execution_count": 0,
      "outputs": []
    },
    {
      "cell_type": "code",
      "metadata": {
        "id": "Aq1xL7CJWsXF",
        "colab_type": "code",
        "outputId": "65779890-27ca-43f3-b4f0-00cedd67faaa",
        "colab": {
          "base_uri": "https://localhost:8080/",
          "height": 391
        }
      },
      "source": [
        "model.summary()"
      ],
      "execution_count": 0,
      "outputs": [
        {
          "output_type": "stream",
          "text": [
            "Model: \"sequential\"\n",
            "_________________________________________________________________\n",
            "Layer (type)                 Output Shape              Param #   \n",
            "=================================================================\n",
            "conv2d (Conv2D)              (None, 32, 32, 32)        896       \n",
            "_________________________________________________________________\n",
            "conv2d_1 (Conv2D)            (None, 32, 32, 32)        9248      \n",
            "_________________________________________________________________\n",
            "max_pooling2d (MaxPooling2D) (None, 16, 16, 32)        0         \n",
            "_________________________________________________________________\n",
            "dropout (Dropout)            (None, 16, 16, 32)        0         \n",
            "_________________________________________________________________\n",
            "flatten (Flatten)            (None, 8192)              0         \n",
            "_________________________________________________________________\n",
            "dense (Dense)                (None, 128)               1048704   \n",
            "_________________________________________________________________\n",
            "dense_1 (Dense)              (None, 10)                1290      \n",
            "=================================================================\n",
            "Total params: 1,060,138\n",
            "Trainable params: 1,060,138\n",
            "Non-trainable params: 0\n",
            "_________________________________________________________________\n"
          ],
          "name": "stdout"
        }
      ]
    },
    {
      "cell_type": "code",
      "metadata": {
        "id": "aTtVFmVIXSon",
        "colab_type": "code",
        "colab": {}
      },
      "source": [
        "model.compile(optimizer='adam', loss='sparse_categorical_crossentropy', metrics=['sparse_categorical_accuracy'])"
      ],
      "execution_count": 0,
      "outputs": []
    },
    {
      "cell_type": "code",
      "metadata": {
        "id": "MXRK2cZcWs6s",
        "colab_type": "code",
        "outputId": "0b3793d9-45d8-4a2b-fcfe-2717c7be33fe",
        "colab": {
          "base_uri": "https://localhost:8080/",
          "height": 394
        }
      },
      "source": [
        "history = model.fit(X_train, y_train, batch_size=10, epochs=10, verbose=1, validation_data=(X_test, y_test))"
      ],
      "execution_count": 0,
      "outputs": [
        {
          "output_type": "stream",
          "text": [
            "Train on 50000 samples, validate on 10000 samples\n",
            "Epoch 1/10\n",
            "50000/50000 [==============================] - 215s 4ms/sample - loss: 1.4085 - sparse_categorical_accuracy: 0.4912 - val_loss: 1.0951 - val_sparse_categorical_accuracy: 0.6146\n",
            "Epoch 2/10\n",
            "50000/50000 [==============================] - 216s 4ms/sample - loss: 1.0805 - sparse_categorical_accuracy: 0.6185 - val_loss: 1.0127 - val_sparse_categorical_accuracy: 0.6375\n",
            "Epoch 3/10\n",
            "50000/50000 [==============================] - 217s 4ms/sample - loss: 0.9691 - sparse_categorical_accuracy: 0.6596 - val_loss: 0.9455 - val_sparse_categorical_accuracy: 0.6699\n",
            "Epoch 4/10\n",
            "50000/50000 [==============================] - 216s 4ms/sample - loss: 0.8921 - sparse_categorical_accuracy: 0.6860 - val_loss: 0.9224 - val_sparse_categorical_accuracy: 0.6740\n",
            "Epoch 5/10\n",
            "50000/50000 [==============================] - 217s 4ms/sample - loss: 0.8352 - sparse_categorical_accuracy: 0.7062 - val_loss: 0.8836 - val_sparse_categorical_accuracy: 0.6918\n",
            "Epoch 6/10\n",
            "50000/50000 [==============================] - 216s 4ms/sample - loss: 0.7853 - sparse_categorical_accuracy: 0.7238 - val_loss: 0.8942 - val_sparse_categorical_accuracy: 0.6929\n",
            "Epoch 7/10\n",
            "50000/50000 [==============================] - 218s 4ms/sample - loss: 0.7395 - sparse_categorical_accuracy: 0.7387 - val_loss: 0.9331 - val_sparse_categorical_accuracy: 0.6831\n",
            "Epoch 8/10\n",
            "50000/50000 [==============================] - 217s 4ms/sample - loss: 0.6983 - sparse_categorical_accuracy: 0.7525 - val_loss: 0.8800 - val_sparse_categorical_accuracy: 0.6958\n",
            "Epoch 9/10\n",
            "50000/50000 [==============================] - 217s 4ms/sample - loss: 0.6652 - sparse_categorical_accuracy: 0.7626 - val_loss: 0.8771 - val_sparse_categorical_accuracy: 0.7039\n",
            "Epoch 10/10\n",
            "50000/50000 [==============================] - 216s 4ms/sample - loss: 0.6362 - sparse_categorical_accuracy: 0.7735 - val_loss: 0.9134 - val_sparse_categorical_accuracy: 0.6998\n"
          ],
          "name": "stdout"
        }
      ]
    },
    {
      "cell_type": "code",
      "metadata": {
        "id": "rDWQsq6DWtAk",
        "colab_type": "code",
        "outputId": "4fa4c2be-e621-4e5a-c381-3f28dd54a011",
        "colab": {
          "base_uri": "https://localhost:8080/",
          "height": 573
        }
      },
      "source": [
        "# Plot Training and validation accuracy values\n",
        "\n",
        "epoch_range = range(1, 11)\n",
        "plt.plot(epoch_range, history.history['sparse_categorical_accuracy'])\n",
        "plt.plot(epoch_range, history.history['val_sparse_categorical_accuracy'])\n",
        "plt.title('Model Accuracy')\n",
        "plt.ylabel('Accuracy')\n",
        "plt.xlabel('Epoch')\n",
        "plt.legend(['Train','Validation'], loc='upper left')\n",
        "plt.show()\n",
        "\n",
        "# Plot Training and validation loss values\n",
        "\n",
        "plt.plot(epoch_range, history.history['loss'])\n",
        "plt.plot(epoch_range, history.history['val_loss'])\n",
        "plt.title('Model Loss')\n",
        "plt.ylabel('Loss')\n",
        "plt.xlabel('Epoch')\n",
        "plt.legend(['Train','Validation'], loc='upper left')\n",
        "plt.show()"
      ],
      "execution_count": 0,
      "outputs": [
        {
          "output_type": "display_data",
          "data": {
            "image/png": "[encoded data removed]",
            "text/plain": [
              "<Figure size 432x288 with 1 Axes>"
            ]
          },
          "metadata": {
            "tags": []
          }
        },
        {
          "output_type": "display_data",
          "data": {
            "image/png": "[encoded data removed]",
            "text/plain": [
              "<Figure size 432x288 with 1 Axes>"
            ]
          },
          "metadata": {
            "tags": []
          }
        }
      ]
    },
    {
      "cell_type": "code",
      "metadata": {
        "id": "2ntP3KbOWtGE",
        "colab_type": "code",
        "colab": {}
      },
      "source": [
        "from mlxtend.plotting import plot_confusion_matrix\n",
        "from sklearn.metrics import confusion_matrix"
      ],
      "execution_count": 0,
      "outputs": []
    },
    {
      "cell_type": "code",
      "metadata": {
        "id": "f2ZKoWlecDSE",
        "colab_type": "code",
        "colab": {}
      },
      "source": [
        "y_pred = model.predict_classes(X_test)"
      ],
      "execution_count": 0,
      "outputs": []
    },
    {
      "cell_type": "code",
      "metadata": {
        "id": "MdZQP5_iWtK6",
        "colab_type": "code",
        "outputId": "dca1513e-dd06-4fec-ce7e-4b5fe90c2eab",
        "colab": {
          "base_uri": "https://localhost:8080/",
          "height": 677
        }
      },
      "source": [
        "mat = confusion_matrix(y_test, y_pred)\n",
        "plot_confusion_matrix(mat, figsize=(10, 10), class_names = classes_name, show_normed=True)"
      ],
      "execution_count": 0,
      "outputs": [
        {
          "output_type": "execute_result",
          "data": {
            "text/plain": [
              "(<Figure size 720x720 with 1 Axes>,\n",
              " <matplotlib.axes._subplots.AxesSubplot at 0x7f29c44c09e8>)"
            ]
          },
          "metadata": {
            "tags": []
          },
          "execution_count": 24
        },
        {
          "output_type": "display_data",
          "data": {
            "image/png": "[encoded data removed]",
            "text/plain": [
              "<Figure size 720x720 with 1 Axes>"
            ]
          },
          "metadata": {
            "tags": []
          }
        }
      ]
    },
    {
      "cell_type": "code",
      "metadata": {
        "id": "9WaMpATiWtPS",
        "colab_type": "code",
        "colab": {}
      },
      "source": [
        ""
      ],
      "execution_count": 0,
      "outputs": []
    },
    {
      "cell_type": "code",
      "metadata": {
        "id": "ig24iH9AWtTq",
        "colab_type": "code",
        "colab": {}
      },
      "source": [
        ""
      ],
      "execution_count": 0,
      "outputs": []
    },
    {
      "cell_type": "code",
      "metadata": {
        "id": "GFc9EFamWtYC",
        "colab_type": "code",
        "colab": {}
      },
      "source": [
        ""
      ],
      "execution_count": 0,
      "outputs": []
    },
    {
      "cell_type": "code",
      "metadata": {
        "id": "qqL6XGsiWtcS",
        "colab_type": "code",
        "colab": {}
      },
      "source": [
        ""
      ],
      "execution_count": 0,
      "outputs": []
    },
    {
      "cell_type": "code",
      "metadata": {
        "id": "hEcpAJtWWtfr",
        "colab_type": "code",
        "colab": {}
      },
      "source": [
        ""
      ],
      "execution_count": 0,
      "outputs": []
    }
  ]
}